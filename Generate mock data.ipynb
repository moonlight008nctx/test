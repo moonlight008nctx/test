{
 "cells": [
  {
   "cell_type": "code",
   "execution_count": 3,
   "metadata": {},
   "outputs": [
    {
     "name": "stdout",
     "output_type": "stream",
     "text": [
      "['Product 1', 'Product 2', 'Product 3', 'Product 4', 'Product 5', 'Product 6', 'Product 7', 'Product 8', 'Product 9', 'Product 10', 'Product 11', 'Product 12', 'Product 13', 'Product 14', 'Product 15', 'Product 16', 'Product 17', 'Product 18', 'Product 19', 'Product 20', 'Product 21', 'Product 22', 'Product 23', 'Product 24', 'Product 25', 'Product 26', 'Product 27', 'Product 28', 'Product 29', 'Product 30', 'Product 31', 'Product 32', 'Product 33', 'Product 34', 'Product 35', 'Product 36', 'Product 37', 'Product 38', 'Product 39', 'Product 40', 'Product 41', 'Product 42', 'Product 43', 'Product 44', 'Product 45', 'Product 46', 'Product 47', 'Product 48', 'Product 49', 'Product 50', 'Product 51', 'Product 52', 'Product 53', 'Product 54', 'Product 55', 'Product 56', 'Product 57', 'Product 58', 'Product 59', 'Product 60', 'Product 61', 'Product 62', 'Product 63', 'Product 64', 'Product 65', 'Product 66', 'Product 67', 'Product 68', 'Product 69', 'Product 70', 'Product 71', 'Product 72', 'Product 73', 'Product 74', 'Product 75', 'Product 76', 'Product 77', 'Product 78', 'Product 79', 'Product 80', 'Product 81', 'Product 82', 'Product 83', 'Product 84', 'Product 85', 'Product 86', 'Product 87', 'Product 88', 'Product 89', 'Product 90', 'Product 91', 'Product 92', 'Product 93', 'Product 94', 'Product 95', 'Product 96', 'Product 97', 'Product 98', 'Product 99', 'Product 100']\n",
      "[1.34, 9.56, 2.38, 2.36, 6.23, 7.93, 3.24, 2.27, 4.63, 5.71, 4.52, 4.75, 2.59, 1.07, 9.65, 3.62, 5.22, 1.81, 6.77, 9.06, 1.65, 9.58, 9.25, 7.12, 3.77, 7.47, 6.48, 1.13, 5.48, 5.39, 0.12, 0.77, 5.7, 5.29, 5.49, 3.29, 6.82, 6.39, 2.1, 4.59, 3.81, 6.39, 0.39, 4.09, 2.72, 8.88, 3.52, 5.48, 0.67, 4.98, 2.44, 9.78, 6.17, 9.14, 0.9, 9.66, 0.43, 5.81, 2.24, 3.08, 4.94, 9.28, 4.45, 4.76, 4.15, 0.71, 0.75, 7.42, 6.84, 9.1, 3.24, 0.73, 2.8, 8.6, 4.51, 3.71, 7.99, 8.14, 1.45, 2.71, 5.06, 1.45, 4.96, 7.32, 2.0, 7.92, 1.46, 3.97, 0.81, 2.04, 0.84, 4.21, 9.12, 5.47, 7.6, 3.71, 1.95, 3.56, 4.04, 1.46]\n",
      "[98, 8, 70, 14, 95, 11, 20, 49, 48, 55, 72, 85, 88, 90, 2, 62, 39, 85, 67, 88, 89, 18, 38, 75, 2, 26, 90, 17, 45, 38, 15, 28, 81, 75, 97, 3, 12, 55, 50, 68, 30, 4, 90, 70, 63, 52, 56, 17, 53, 35, 65, 7, 28, 18, 26, 72, 76, 27, 84, 74, 72, 23, 38, 81, 37, 56, 99, 89, 13, 38, 80, 77, 65, 66, 56, 50, 42, 13, 45, 70, 59, 63, 59, 100, 79, 4, 25, 25, 78, 12, 23, 73, 64, 16, 66, 87, 48, 6, 26, 59]\n"
     ]
    }
   ],
   "source": [
    "import pandas as pd\n",
    "import numpy as np\n",
    "import datetime\n",
    "from random import seed\n",
    "from random import random\n",
    "import random as r\n",
    "import calendar\n",
    "\n",
    "# Next we will design a dictionary 'products' to hold product name and prices. In this case, we only uses generic product names. And the price is generated with specified seeds for repeatability\n",
    "# weight impact purchase frequency (later will be used to generate data frame)\n",
    "product_names=[]\n",
    "product_prices=[]\n",
    "weights=[]\n",
    "i=1\n",
    "while i<101:\n",
    "        product='Product '+str(i)\n",
    "        product_names.append(product)\n",
    "        seed(i)\n",
    "        price=round(random()*10,2)\n",
    "        product_prices.append(price)\n",
    "        weight=r.randint(1,100)\n",
    "        weights.append(weight)\n",
    "        i+=1\n",
    "print(product_names) \n",
    "print(product_prices)\n",
    "print(weights)\n"
   ]
  },
  {
   "cell_type": "code",
   "execution_count": 4,
   "metadata": {
    "scrolled": true
   },
   "outputs": [
    {
     "name": "stdout",
     "output_type": "stream",
     "text": [
      "[[1.34, 98], [9.56, 8], [2.38, 70], [2.36, 14], [6.23, 95], [7.93, 11], [3.24, 20], [2.27, 49], [4.63, 48], [5.71, 55], [4.52, 72], [4.75, 85], [2.59, 88], [1.07, 90], [9.65, 2], [3.62, 62], [5.22, 39], [1.81, 85], [6.77, 67], [9.06, 88], [1.65, 89], [9.58, 18], [9.25, 38], [7.12, 75], [3.77, 2], [7.47, 26], [6.48, 90], [1.13, 17], [5.48, 45], [5.39, 38], [0.12, 15], [0.77, 28], [5.7, 81], [5.29, 75], [5.49, 97], [3.29, 3], [6.82, 12], [6.39, 55], [2.1, 50], [4.59, 68], [3.81, 30], [6.39, 4], [0.39, 90], [4.09, 70], [2.72, 63], [8.88, 52], [3.52, 56], [5.48, 17], [0.67, 53], [4.98, 35], [2.44, 65], [9.78, 7], [6.17, 28], [9.14, 18], [0.9, 26], [9.66, 72], [0.43, 76], [5.81, 27], [2.24, 84], [3.08, 74], [4.94, 72], [9.28, 23], [4.45, 38], [4.76, 81], [4.15, 37], [0.71, 56], [0.75, 99], [7.42, 89], [6.84, 13], [9.1, 38], [3.24, 80], [0.73, 77], [2.8, 65], [8.6, 66], [4.51, 56], [3.71, 50], [7.99, 42], [8.14, 13], [1.45, 45], [2.71, 70], [5.06, 59], [1.45, 63], [4.96, 59], [7.32, 100], [2.0, 79], [7.92, 4], [1.46, 25], [3.97, 25], [0.81, 78], [2.04, 12], [0.84, 23], [4.21, 73], [9.12, 64], [5.47, 16], [7.6, 66], [3.71, 87], [1.95, 48], [3.56, 6], [4.04, 26], [1.46, 59]]\n",
      "{'Product 1': [1.34, 98], 'Product 2': [9.56, 8], 'Product 3': [2.38, 70], 'Product 4': [2.36, 14], 'Product 5': [6.23, 95], 'Product 6': [7.93, 11], 'Product 7': [3.24, 20], 'Product 8': [2.27, 49], 'Product 9': [4.63, 48], 'Product 10': [5.71, 55], 'Product 11': [4.52, 72], 'Product 12': [4.75, 85], 'Product 13': [2.59, 88], 'Product 14': [1.07, 90], 'Product 15': [9.65, 2], 'Product 16': [3.62, 62], 'Product 17': [5.22, 39], 'Product 18': [1.81, 85], 'Product 19': [6.77, 67], 'Product 20': [9.06, 88], 'Product 21': [1.65, 89], 'Product 22': [9.58, 18], 'Product 23': [9.25, 38], 'Product 24': [7.12, 75], 'Product 25': [3.77, 2], 'Product 26': [7.47, 26], 'Product 27': [6.48, 90], 'Product 28': [1.13, 17], 'Product 29': [5.48, 45], 'Product 30': [5.39, 38], 'Product 31': [0.12, 15], 'Product 32': [0.77, 28], 'Product 33': [5.7, 81], 'Product 34': [5.29, 75], 'Product 35': [5.49, 97], 'Product 36': [3.29, 3], 'Product 37': [6.82, 12], 'Product 38': [6.39, 55], 'Product 39': [2.1, 50], 'Product 40': [4.59, 68], 'Product 41': [3.81, 30], 'Product 42': [6.39, 4], 'Product 43': [0.39, 90], 'Product 44': [4.09, 70], 'Product 45': [2.72, 63], 'Product 46': [8.88, 52], 'Product 47': [3.52, 56], 'Product 48': [5.48, 17], 'Product 49': [0.67, 53], 'Product 50': [4.98, 35], 'Product 51': [2.44, 65], 'Product 52': [9.78, 7], 'Product 53': [6.17, 28], 'Product 54': [9.14, 18], 'Product 55': [0.9, 26], 'Product 56': [9.66, 72], 'Product 57': [0.43, 76], 'Product 58': [5.81, 27], 'Product 59': [2.24, 84], 'Product 60': [3.08, 74], 'Product 61': [4.94, 72], 'Product 62': [9.28, 23], 'Product 63': [4.45, 38], 'Product 64': [4.76, 81], 'Product 65': [4.15, 37], 'Product 66': [0.71, 56], 'Product 67': [0.75, 99], 'Product 68': [7.42, 89], 'Product 69': [6.84, 13], 'Product 70': [9.1, 38], 'Product 71': [3.24, 80], 'Product 72': [0.73, 77], 'Product 73': [2.8, 65], 'Product 74': [8.6, 66], 'Product 75': [4.51, 56], 'Product 76': [3.71, 50], 'Product 77': [7.99, 42], 'Product 78': [8.14, 13], 'Product 79': [1.45, 45], 'Product 80': [2.71, 70], 'Product 81': [5.06, 59], 'Product 82': [1.45, 63], 'Product 83': [4.96, 59], 'Product 84': [7.32, 100], 'Product 85': [2.0, 79], 'Product 86': [7.92, 4], 'Product 87': [1.46, 25], 'Product 88': [3.97, 25], 'Product 89': [0.81, 78], 'Product 90': [2.04, 12], 'Product 91': [0.84, 23], 'Product 92': [4.21, 73], 'Product 93': [9.12, 64], 'Product 94': [5.47, 16], 'Product 95': [7.6, 66], 'Product 96': [3.71, 87], 'Product 97': [1.95, 48], 'Product 98': [3.56, 6], 'Product 99': [4.04, 26], 'Product 100': [1.46, 59]}\n"
     ]
    }
   ],
   "source": [
    "# Now we have our dictionary\n",
    "# this a dictionary with product_names as key, and each value is a short list that holds price and weight(impact purchasing frequency)\n",
    "pw= list(map(list,zip(product_prices,weights)))\n",
    "products=dict(zip(product_names,pw))\n",
    "\n",
    "print(pw)\n",
    "print(products)"
   ]
  },
  {
   "cell_type": "code",
   "execution_count": 18,
   "metadata": {},
   "outputs": [
    {
     "name": "stdout",
     "output_type": "stream",
     "text": [
      "January finished!\n",
      "February finished!\n",
      "March finished!\n",
      "April finished!\n",
      "May finished!\n",
      "June finished!\n",
      "July finished!\n",
      "August finished!\n",
      "September finished!\n",
      "October finished!\n",
      "November finished!\n",
      "December finished!\n"
     ]
    }
   ],
   "source": [
    "# Here is how we generate specific number of rows in each month\n",
    "# This dataset has built in seasonality in purchase numbers (refer to order_amount)\n",
    "# This dataset has built in the variance of purchasing frequency based on product (refer to weights)\n",
    "# generated purchase zip code using a random.choices. List of zip codes in the US is downloaded from: https://simplemaps.com/data/us-zips\n",
    "# Order date has date and specific time. \n",
    "# this is also take into the cosnideration of frequency of order time (8 pm vs. 8 am for instance)\n",
    "# quantity in each order is generated based on geometric distribution. \n",
    "\n",
    "# these are the column names for our dataframe\n",
    "columns=['Order ID','Product Name','Quantity','Price Each','Order Date','Purchase Zip Code']\n",
    "# define the initial order_id.\n",
    "order_id =143679\n",
    "uszips=pd.read_csv('uszips.csv')\n",
    "zip_list=uszips['zip']\n",
    "\n",
    "def generate_random_time(month):\n",
    "    day_range=calendar.monthrange(2020,month)[1] # day range within each month (ie., 28 days in Feb, 31 days in Jan, etc)\n",
    "    random_day=r.randint(1,day_range)\n",
    "    # datetime.datetime() takes in year,month, day, hour, min, sec\n",
    "    if r.random() <0.5:\n",
    "        date=datetime.datetime(2020,month,random_day, 12, 0)\n",
    "    else:\n",
    "        date=datetime.datetime(2020,month,random_day, 12, 0)\n",
    "    time_offset = np.random.normal(loc=0, scale=180)\n",
    "    \n",
    "    final_date=date+datetime.timedelta(minutes=time_offset)\n",
    "    return final_date.strftime(\"%m/%d/%Y %H:%M\")\n",
    "\n",
    "for month_value in range(1,13):\n",
    "    if month_value<=10:\n",
    "        order_amount=int(np.random.normal(loc=12000, scale=4000)) # loc is the mean, scale is the std/spread\n",
    "    if month_value==11:\n",
    "        order_amount=int(np.random.normal(loc=20000, scale=3000))\n",
    "        # slightly higher records (higher mean than other months)\n",
    "    if month_value ==12:\n",
    "        order_amount=int(np.random.normal(loc=26000, scale=3000))\n",
    "        # highest number of purchase records (highest mean)\n",
    "    \n",
    "    df=pd.DataFrame(columns=columns)\n",
    "    for i in range(order_amount):\n",
    "        zip_code=r.choices(zip_list)\n",
    "        date=generate_random_time(month_value)\n",
    "        product=r.choices(product_names,weights=weights)[0]\n",
    "        price=products[product][1]\n",
    "        quantity_ordered=np.random.geometric(p=1.0-(1.0/price),size=1)\n",
    "        df.loc[i]=[order_id,product,quantity_ordered[0],price, date,zip_code[0]]\n",
    "        order_id+=1\n",
    "    month_name=calendar.month_name[month_value]\n",
    "    print(month_name + \" finished!\")\n",
    "    df.to_csv(str(month_value)+\".\"+f\"{month_name}_data.csv\")"
   ]
  },
  {
   "cell_type": "code",
   "execution_count": null,
   "metadata": {},
   "outputs": [],
   "source": []
  }
 ],
 "metadata": {
  "kernelspec": {
   "display_name": "Python 3",
   "language": "python",
   "name": "python3"
  },
  "language_info": {
   "codemirror_mode": {
    "name": "ipython",
    "version": 3
   },
   "file_extension": ".py",
   "mimetype": "text/x-python",
   "name": "python",
   "nbconvert_exporter": "python",
   "pygments_lexer": "ipython3",
   "version": "3.8.5"
  }
 },
 "nbformat": 4,
 "nbformat_minor": 4
}

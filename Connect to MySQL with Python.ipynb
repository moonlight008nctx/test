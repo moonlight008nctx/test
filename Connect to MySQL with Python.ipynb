{
 "cells": [
  {
   "cell_type": "code",
   "execution_count": null,
   "metadata": {},
   "outputs": [],
   "source": [
    "# Note: you may need to install the mysql.connector first. \n",
    "# pip install mysql-connector-python"
   ]
  },
  {
   "cell_type": "code",
   "execution_count": 4,
   "metadata": {},
   "outputs": [
    {
     "name": "stdout",
     "output_type": "stream",
     "text": [
      "[('classicmodels',), ('information_schema',), ('mysql',), ('online_order',), ('online_sale',), ('performance_schema',), ('sakila',), ('sys',), ('world',), ('world_x',)]\n"
     ]
    }
   ],
   "source": [
    "## importing 'mysql.connector' as mysql \n",
    "import mysql.connector as mysql\n",
    "import pandas as pd\n",
    "from sqlalchemy import create_engine\n",
    "\n",
    "## connecting to the database using 'connect()' method  --> it takes 3 required parameters 'host', 'user', 'passwd'\n",
    "db = mysql.connect(\n",
    "    host = \"localhost\",\n",
    "    user = \"root\",\n",
    "    passwd = \"JenData2021#MSBA\"\n",
    ")\n",
    "# creating an instance of 'cursor' class which is used to execute the 'SQL' statements in 'Python'\n",
    "cursor=db.cursor()\n",
    "\n",
    "# 'fetchall()' method fetches all the rows from the last executed statement\n",
    "cursor.execute(\"SHOW DATABASES\")\n",
    "databases = cursor.fetchall() # it returns a list of all databases present\n",
    "print(databases)"
   ]
  },
  {
   "cell_type": "code",
   "execution_count": 2,
   "metadata": {},
   "outputs": [
    {
     "name": "stdout",
     "output_type": "stream",
     "text": [
      "[('customer',), ('master_data',), ('online_order',), ('product',)]\n"
     ]
    }
   ],
   "source": [
    "db = mysql.connect(\n",
    "    host = \"localhost\",\n",
    "    user = \"root\",\n",
    "    passwd = \"JenData2021#MSBA\",\n",
    "    database = \"online_order\"\n",
    ")\n",
    "\n",
    "cursor=db.cursor()\n",
    "cursor.execute(\"SHOW TABLES\")\n",
    "tables=cursor.fetchall()\n",
    "print(tables)"
   ]
  },
  {
   "cell_type": "code",
   "execution_count": null,
   "metadata": {},
   "outputs": [],
   "source": []
  }
 ],
 "metadata": {
  "kernelspec": {
   "display_name": "Python 3",
   "language": "python",
   "name": "python3"
  },
  "language_info": {
   "codemirror_mode": {
    "name": "ipython",
    "version": 3
   },
   "file_extension": ".py",
   "mimetype": "text/x-python",
   "name": "python",
   "nbconvert_exporter": "python",
   "pygments_lexer": "ipython3",
   "version": "3.8.5"
  }
 },
 "nbformat": 4,
 "nbformat_minor": 4
}

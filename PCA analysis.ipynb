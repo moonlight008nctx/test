{
 "cells": [
  {
   "cell_type": "code",
   "execution_count": 7,
   "metadata": {},
   "outputs": [
    {
     "name": "stdout",
     "output_type": "stream",
     "text": [
      "        p1f1 p1f2 p1f3 p1f4 p1f5 p2f1 p2f2 p2f3 p2f4 p2f5\n",
      "sample1  518  474  535  540  544  162  178  175  171  163\n",
      "sample2   28   24   28   21   27  281  235  249  248  269\n",
      "sample3  630  608  626  601  630   18   13   16   17   16\n",
      "sample4  694  686  693  707  669  994  885  976  958  986\n",
      "sample5  899  973  930  913  938   93   94  114   93  115\n",
      "(100, 10)\n"
     ]
    }
   ],
   "source": [
    "import pandas as pd\n",
    "import numpy as np\n",
    "import random as rd\n",
    "import sklearn as skl\n",
    "from sklearn.decomposition import PCA\n",
    "import matplotlib.pyplot as plt\n",
    "\n",
    "# generate sample data\n",
    "samples = ['sample'+str(i) for i in range(1,101)]\n",
    "\n",
    "product_features=['p1f'+str(i) for i in range(1,6)]\n",
    "process_features=['p2f'+str(i) for i in range(1,6)]\n",
    "\n",
    "# now create a dataframe with specified column names. Note: we add * in front of the array name so that it will include the content of the array. Without the * sigh, it will put the array itself in, which looks like [[]]\n",
    "data=pd.DataFrame(columns=[*product_features,*process_features], index=samples)\n",
    "\n",
    "# now add in data to the dataframe. Data is generated using poisson distribution, with mean value ranging from 10 - 1000.\n",
    "for v in data.index:\n",
    "    data.loc[v,'p1f1':'p1f5'] = np.random.poisson(lam=rd.randrange(10,1000),size=5)\n",
    "    data.loc[v,'p2f1':'p2f5'] = np.random.poisson(lam=rd.randrange(10,1000),size=5)\n",
    "\n",
    "print(data.head())\n",
    "print(data.shape)"
   ]
  },
  {
   "cell_type": "code",
   "execution_count": 3,
   "metadata": {},
   "outputs": [
    {
     "data": {
      "image/png": "[encoded data removed]",
      "text/plain": [
       "<Figure size 432x288 with 1 Axes>"
      ]
     },
     "metadata": {
      "needs_background": "light"
     },
     "output_type": "display_data"
    },
    {
     "name": "stdout",
     "output_type": "stream",
     "text": [
      "[91.8  2.2  1.7  1.4  1.   0.8  0.5  0.5  0.3  0. ]\n"
     ]
    }
   ],
   "source": [
    "# we have to center and scale the data before doing PCA\n",
    "# preprocessing.scale normalize the data so that the mean of each variable are 0 and the standard deviation is 1\n",
    "# note that Sum of Square of distance for PC1 for all the sample\n",
    "# alternative method to use --> StandardScaler().fit_transform(data.T)\n",
    "scaled_data=skl.preprocessing.scale(data.T)\n",
    "\n",
    "# PCA stage. First we need to creat a PCA object\n",
    "# In sklearn, we create object that can be trained using the training data, and then apply the ame object to the testing data. \n",
    "# In this case, we are only interested in exploring one dataset, and not using PCA for machine learning. \n",
    "pca=PCA()\n",
    "# apply the PCA object on the scaled data. This is where the loading scores and the vairatiance that each PC accounts for are calculated. \n",
    "pca.fit(scaled_data)\n",
    "# we then generate the coordinates for a PCA graph based on the loading scores and the scaled data\n",
    "pca_data=pca.transform(scaled_data)\n",
    "# calcuation the percent variation that each principal component accounts for\n",
    "per_var=np.round(pca.explained_variance_ratio_*100, decimals=1)\n",
    "# print(per_var) --> a list that contains pct variance explained by each PC.\n",
    "# now we create lable for the scree plot --> bar char lists the variace explained by each principal component\n",
    "labels=['PC'+str(x) for x in range(1,len(per_var)+1)]\n",
    "# now we matplotlib to create a bar chart\n",
    "plt.bar(x=range(1,len(per_var)+1),height=per_var,tick_label=labels)\n",
    "plt.ylabel('Percentage of Explained Variance')\n",
    "plt.xlabel('Principal Component')\n",
    "plt.title=('Scree Plot')\n",
    "plt.show()\n",
    "\n",
    "\n",
    "\n"
   ]
  },
  {
   "cell_type": "code",
   "execution_count": 4,
   "metadata": {},
   "outputs": [
    {
     "name": "stdout",
     "output_type": "stream",
     "text": [
      "            PC1       PC2       PC3       PC4       PC5       PC6       PC7  \\\n",
      "p1f1  -9.114618 -1.060033 -0.842450 -0.177071 -1.378292 -1.415741  0.650759   \n",
      "p1f2  -9.494897  0.218296 -2.021947 -1.618400  0.549294 -0.206739 -1.125725   \n",
      "p1f3  -9.806602 -1.620595 -0.428738  0.560464  0.485107  2.010457  0.353587   \n",
      "p1f4  -9.831668  1.488329  0.209152  2.108611  0.964653 -0.519149  0.389266   \n",
      "p1f5  -9.629962  0.935166  3.050850 -0.859903 -0.659652  0.060539 -0.309857   \n",
      "p2f1   9.433305 -2.035466  0.502221  0.132312 -1.225846  0.416443 -0.288478   \n",
      "p2f2   9.586080 -0.333072  1.034666 -1.120218  1.694586 -0.350372 -0.143959   \n",
      "p2f3   9.397539 -0.672031 -0.252110 -0.480405  0.701067 -0.489660  1.250560   \n",
      "p2f4  10.068367 -0.084282 -0.260613  1.936240 -0.155371 -0.417772 -1.194528   \n",
      "p2f5   9.392456  3.163688 -0.991030 -0.481631 -0.975546  0.911994  0.418373   \n",
      "\n",
      "           PC8       PC9          PC10  \n",
      "p1f1 -0.411177 -0.643471  1.776357e-15  \n",
      "p1f2  0.335525  0.429319  2.386980e-15  \n",
      "p1f3 -0.556265 -0.203644  7.771561e-16  \n",
      "p1f4  0.980746  0.016232 -6.661338e-16  \n",
      "p1f5 -0.394987  0.384473  2.498002e-15  \n",
      "p2f1  1.367528  0.110089 -1.942890e-15  \n",
      "p2f2  0.045441 -0.951327 -1.554312e-15  \n",
      "p2f3 -0.359714  1.007251  1.332268e-15  \n",
      "p2f4 -0.998228  0.133709  1.831868e-15  \n",
      "p2f5 -0.008869 -0.282630 -3.552714e-15  \n"
     ]
    },
    {
     "data": {
      "image/png": "[encoded data removed]",
      "text/plain": [
       "<Figure size 432x288 with 1 Axes>"
      ]
     },
     "metadata": {
      "needs_background": "light"
     },
     "output_type": "display_data"
    },
    {
     "name": "stdout",
     "output_type": "stream",
     "text": [
      "variable45    0.104368\n",
      "variable40    0.104330\n",
      "variable58    0.104317\n",
      "variable37   -0.104314\n",
      "variable17   -0.104314\n",
      "variable57   -0.104299\n",
      "variable23   -0.104293\n",
      "variable54   -0.104284\n",
      "variable91    0.104283\n",
      "variable83   -0.104272\n",
      "dtype: float64\n"
     ]
    }
   ],
   "source": [
    "# next we draw the PCA plot\n",
    "# this table contains the projection of each feature on each PCs. \n",
    "pca_df=pd.DataFrame(pca_data,index=[*product_features, *process_features], columns=labels)\n",
    "print(pca_df)\n",
    "plt.scatter(pca_df.PC1, pca_df.PC2)\n",
    "plt.title=('My PCA Chart')\n",
    "plt.xlabel('PC1 - {0}%'.format(per_var[0]))\n",
    "plt.ylabel('PC2 - {0}%'.format(per_var[1]))\n",
    "\n",
    "# now to the scatter plot, we add the sample names. \n",
    "for sample in pca_df.index:\n",
    "    plt.annotate(sample,(pca_df.PC1.loc[sample], pca_df.PC2.loc[sample]))\n",
    "    \n",
    "plt.show()\n",
    "# we can tell that the features are ploted on the PCA plot, and seperatured into two clusters, and these two clusters can be well differentiated by PC1. \n",
    "\n",
    "# now let's look at the loading score for PC1 and to determine which variables had the largest influence on speparating the two clusters. \n",
    "loading_scores= pd.Series(pca.components_[0],index=variables)\n",
    "sorted_loading_scores=loading_scores.abs().sort_values(ascending=False)\n",
    "top_10_variables=sorted_loading_scores[0:10].index.values\n",
    "print(loading_scores[top_10_variables])\n"
   ]
  },
  {
   "cell_type": "code",
   "execution_count": 4,
   "metadata": {
    "scrolled": true
   },
   "outputs": [
    {
     "name": "stdout",
     "output_type": "stream",
     "text": [
      "Requirement already satisfied: pylint in c:\\programdata\\anaconda3\\lib\\site-packages (2.6.0)\n",
      "Requirement already satisfied: astroid<=2.5,>=2.4.0 in c:\\programdata\\anaconda3\\lib\\site-packages (from pylint) (2.4.2)\n",
      "Requirement already satisfied: mccabe<0.7,>=0.6 in c:\\programdata\\anaconda3\\lib\\site-packages (from pylint) (0.6.1)\n",
      "Requirement already satisfied: isort<6,>=4.2.5 in c:\\programdata\\anaconda3\\lib\\site-packages (from pylint) (5.6.4)\n",
      "Requirement already satisfied: toml>=0.7.1 in c:\\programdata\\anaconda3\\lib\\site-packages (from pylint) (0.10.1)\n",
      "Requirement already satisfied: colorama; sys_platform == \"win32\" in c:\\programdata\\anaconda3\\lib\\site-packages (from pylint) (0.4.4)\n",
      "Requirement already satisfied: lazy-object-proxy==1.4.* in c:\\programdata\\anaconda3\\lib\\site-packages (from astroid<=2.5,>=2.4.0->pylint) (1.4.3)\n",
      "Requirement already satisfied: wrapt~=1.11 in c:\\programdata\\anaconda3\\lib\\site-packages (from astroid<=2.5,>=2.4.0->pylint) (1.11.2)\n",
      "Requirement already satisfied: six~=1.12 in c:\\programdata\\anaconda3\\lib\\site-packages (from astroid<=2.5,>=2.4.0->pylint) (1.15.0)\n",
      "Note: you may need to restart the kernel to use updated packages.\n"
     ]
    }
   ],
   "source": [
    "pip install pylint"
   ]
  },
  {
   "cell_type": "code",
   "execution_count": null,
   "metadata": {},
   "outputs": [],
   "source": []
  }
 ],
 "metadata": {
  "kernelspec": {
   "display_name": "Python 3",
   "language": "python",
   "name": "python3"
  },
  "language_info": {
   "codemirror_mode": {
    "name": "ipython",
    "version": 3
   },
   "file_extension": ".py",
   "mimetype": "text/x-python",
   "name": "python",
   "nbconvert_exporter": "python",
   "pygments_lexer": "ipython3",
   "version": "3.8.5"
  }
 },
 "nbformat": 4,
 "nbformat_minor": 4
}
